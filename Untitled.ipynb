{
 "cells": [
  {
   "cell_type": "code",
   "execution_count": 1,
   "id": "9e9be381-1f62-42dd-b1a4-c8034282aa16",
   "metadata": {
    "tags": []
   },
   "outputs": [],
   "source": [
    "import numpy as np\n",
    "import pickle as pkl\n",
    "import os\n",
    "import pandas as pd"
   ]
  },
  {
   "cell_type": "code",
   "execution_count": 6,
   "id": "da14962b-37f6-45af-bb31-35a417016199",
   "metadata": {
    "tags": []
   },
   "outputs": [],
   "source": [
    "results = pkl.load(open('8248_n_system.pkl', 'rb'))"
   ]
  },
  {
   "cell_type": "code",
   "execution_count": 7,
   "id": "159756b8-ec93-4453-aebc-7b6901bb689f",
   "metadata": {
    "tags": []
   },
   "outputs": [
    {
     "data": {
      "text/plain": [
       "array([16.19695375, 25.53785749, 13.15811926])"
      ]
     },
     "execution_count": 7,
     "metadata": {},
     "output_type": "execute_result"
    }
   ],
   "source": [
    "results[0]"
   ]
  },
  {
   "cell_type": "code",
   "execution_count": 8,
   "id": "729410c7-7b94-4bb6-81e8-b7134b494664",
   "metadata": {
    "tags": []
   },
   "outputs": [
    {
     "data": {
      "text/plain": [
       "[[9.953273329452987,\n",
       "  16.356768822331393,\n",
       "  12.242237893545418,\n",
       "  15.427198377248024,\n",
       "  17.21339542755375,\n",
       "  3.0127393121219064,\n",
       "  3.970375180523421],\n",
       " [16.303258681020047,\n",
       "  3.1763070636887307,\n",
       "  2.3227565523709752,\n",
       "  0.25815062239693326,\n",
       "  9.736668867388808,\n",
       "  6.6203085650059625,\n",
       "  16.052791382409747],\n",
       " [13.752689934802332,\n",
       "  16.48158873716268,\n",
       "  11.131485518937442,\n",
       "  17.684940867735477,\n",
       "  10.549381963071134,\n",
       "  2.844299771287446,\n",
       "  18.755053366875455]]"
      ]
     },
     "execution_count": 8,
     "metadata": {},
     "output_type": "execute_result"
    }
   ],
   "source": [
    "results[1]"
   ]
  },
  {
   "cell_type": "code",
   "execution_count": null,
   "id": "7abe1ee3-d2c0-40b9-bc30-7ea39a507bd6",
   "metadata": {},
   "outputs": [],
   "source": []
  }
 ],
 "metadata": {
  "kernelspec": {
   "display_name": "queueing",
   "language": "python",
   "name": "queueing"
  },
  "language_info": {
   "codemirror_mode": {
    "name": "ipython",
    "version": 3
   },
   "file_extension": ".py",
   "mimetype": "text/x-python",
   "name": "python",
   "nbconvert_exporter": "python",
   "pygments_lexer": "ipython3",
   "version": "3.9.16"
  }
 },
 "nbformat": 4,
 "nbformat_minor": 5
}
